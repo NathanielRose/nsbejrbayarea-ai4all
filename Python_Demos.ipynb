{
  "nbformat": 4,
  "nbformat_minor": 0,
  "metadata": {
    "colab": {
      "name": "Python Demos.ipynb",
      "provenance": [],
      "collapsed_sections": [],
      "include_colab_link": true
    },
    "kernelspec": {
      "display_name": "Python 3",
      "language": "python",
      "name": "python3"
    }
  },
  "cells": [
    {
      "cell_type": "markdown",
      "metadata": {
        "id": "view-in-github",
        "colab_type": "text"
      },
      "source": [
        "<a href=\"https://colab.research.google.com/github/NathanielRose/nsbejrbayarea-ai4all/blob/master/Python_Demos.ipynb\" target=\"_parent\"><img src=\"https://colab.research.google.com/assets/colab-badge.svg\" alt=\"Open In Colab\"/></a>"
      ]
    },
    {
      "cell_type": "markdown",
      "metadata": {
        "id": "n3ZYHtJ0TrLZ",
        "colab_type": "text"
      },
      "source": [
        "**Note: Please make your own copy of this notebook to run and execute, thank you!**\n",
        "\n",
        "1.   Go to the menu tab on the top left corner\n",
        "2.   Click on \"File\"\n",
        "3.   Under the File tab menu click on \"Save a copy in Drive...\""
      ]
    },
    {
      "cell_type": "markdown",
      "metadata": {
        "id": "a1M_fsQYhK-G",
        "colab_type": "text"
      },
      "source": [
        "# How Does a Program Work?\n",
        "\n",
        "---\n",
        "\n"
      ]
    },
    {
      "cell_type": "markdown",
      "metadata": {
        "id": "CShGEX7Mf4lW",
        "colab_type": "text"
      },
      "source": [
        "***A computer*** is a device that can be instructed to carry out arbitrary sequences of arithmetic or logical operations automatically. The ability of computers to follow generalized sets of operations, called programs, enables them to perform an extremely wide range of tasks.\n",
        "\n",
        "***Computer programming*** is a process that leads from an original formulation of a computing problem to executable computer programs. Programming involves activities such as analysis, developing understanding, generating algorithms, verification of requirements of algorithms including their correctness and resources consumption, and implementation of algorithms in a target programming language.\n",
        "\n",
        "[***Python***](https://docs.python.org/3/) is an interpreted high-level programming language for general-purpose programming. Python has a design philosophy that emphasizes code readability and a syntax that allows programmers to express concepts in fewer lines of code. - Wikipedia\n",
        "\n",
        "**If you know how to program in Java:** *For students with prior knowledge in Java, notes comparing Java and Python will be provided in italics. If you haven't programmed in Java before, you can ignore these.*"
      ]
    },
    {
      "cell_type": "markdown",
      "metadata": {
        "id": "AluMfJw2yl7q",
        "colab_type": "text"
      },
      "source": [
        "If you are not yet familiar with some of the fundamental internal mechanisms that make a computer work, please check out some of the following short videos offered by code.org:\n",
        "\n",
        "\n",
        "*   [Introducing How Computers Work](https://www.youtube.com/watch?v=OAx_6-wdslM&list=PLzdnOPI1iJNcsRwJhvksEo1tJqjIqWbN-)\n",
        "*   [How Computers Work: What Makes a Computer, a Computer?](https://www.youtube.com/watch?v=mCq8-xTH7jA&list=PLzdnOPI1iJNcsRwJhvksEo1tJqjIqWbN-&index=2)\n",
        "* [How Computers Work: Binary & Data](https://www.youtube.com/watch?v=USCBCmwMCDA&list=PLzdnOPI1iJNcsRwJhvksEo1tJqjIqWbN-&index=3)\n",
        "*   [How Computers Work: Circuits and Logic](https://www.youtube.com/watch?v=ZoqMiFKspAA&list=PLzdnOPI1iJNcsRwJhvksEo1tJqjIqWbN-&index=4)\n",
        "*   [How Computers Work: CPU, Memory, Input & Output](https://www.youtube.com/watch?v=DKGZlaPlVLY&list=PLzdnOPI1iJNcsRwJhvksEo1tJqjIqWbN-&index=5)\n",
        "*   [How Computers Work: Hardware and Software](https://)"
      ]
    },
    {
      "cell_type": "markdown",
      "metadata": {
        "id": "A9753BgAOjkK",
        "colab_type": "text"
      },
      "source": [
        "## Comments"
      ]
    },
    {
      "cell_type": "markdown",
      "metadata": {
        "id": "A3wKYZB7hJ_B",
        "colab_type": "text"
      },
      "source": [
        "[**Video Tutorial: Comments**](https://youtu.be/Cxhghx57YR0)"
      ]
    },
    {
      "cell_type": "markdown",
      "metadata": {
        "id": "JVa67UvhOovC",
        "colab_type": "text"
      },
      "source": [
        "Comments are lines of code that are not executed. At first glance, this might sound a little strange - why would we write code that we won't run? The reason comments exist is that we need to describe what is happening in our code in normal, human language. This is important not only for you to understand your code (also consider how lost you may be if you come back to your code a month or even a week later), but for others to understand it as well.\n",
        "\n",
        "To emphasize how important including comments in your code is, consider this. The average iPhone app contains about 400 thousand lines of code. Microsoft Office 2001 has about 25 million. The average high-end modern car has about 100 million! Imagine being an engineer working on one of these projects. If there were no comments - no descriptions in the code telling you what is happening in a particular section - you would be totally lost! That's why it is super duper important to include comments in your code. (Data: http://www.visualcapitalist.com/millions-lines-of-code/)\n",
        "\n",
        "There are two main types of comments in most general programming languages: in-line comments and multi-line comments. We almost exclusively use in-line comments in this curriculum. This is partly because the descriptions we include are pretty short, but also because multi-line comments sometimes get printed out in Google Colabs, and we typically don't want that. *We recommend looking up more info about multi-line comments on your own if you're curious! They are widely used, just not as often in this curriculum.*\n",
        "\n",
        "In Python, in-line comments are marked with a hashtag symbol (#). **Any text after the # on the same line will be ignored by the computer when the code runs.** These are useful for short, simple explanations about what your code is doing.\n",
        "\n",
        "*In Java, in-line comments are designated with double forward slashes (//).*"
      ]
    },
    {
      "cell_type": "code",
      "metadata": {
        "id": "AGr-0OWpOiae",
        "colab_type": "code",
        "colab": {}
      },
      "source": [
        "# This is an in-line comment. Anything after the hashtag is ignored!\n",
        "\n",
        "x = 1 # This is also an in-line comment, included after some code on the same line\n",
        "\n",
        "# If you run this code cell, you shouldn't get any output.\n",
        "# That is partly because almost everything here is a comment,\n",
        "# but also because the code above doesn't produce any output."
      ],
      "execution_count": 0,
      "outputs": []
    },
    {
      "cell_type": "markdown",
      "metadata": {
        "id": "zj3VNAHEVniK",
        "colab_type": "text"
      },
      "source": [
        "Another common use of comments is the idea of **\"commenting out\"** code. When you're writing code (and especially when you're trying to fix errors in your code), you often need to isolate certain pieces of code to make sure everything works properly. So, instead of just deleting pieces of your code altogether and potentially losing it, you can just comment it out. That way, when you run the program, the code you've commented out will be ignored, but you can always **uncomment** it in order to include it again."
      ]
    },
    {
      "cell_type": "code",
      "metadata": {
        "id": "JUCOesHhX7-p",
        "colab_type": "code",
        "colab": {}
      },
      "source": [
        "# The following line of code is NOT commented out.\n",
        "print(\"My name is Harry Potter.\")\n",
        "\n",
        "# The following line of code IS commented out and \n",
        "# will be ignored when we run this cell.\n",
        "# print(\"Do you know anything about the Chamber of Secrets?\")\n",
        "\n",
        "# Try removing the hashtag from the line above this one.\n",
        "# If you rerun this cell after doing so, \n",
        "# you should get two statements printed out."
      ],
      "execution_count": 0,
      "outputs": []
    },
    {
      "cell_type": "markdown",
      "metadata": {
        "id": "Zmx7bUdFoLtA",
        "colab_type": "text"
      },
      "source": [
        "## Outputs, Expressions, and Variables\n"
      ]
    },
    {
      "cell_type": "markdown",
      "metadata": {
        "id": "BN5Auhqjkomk",
        "colab_type": "text"
      },
      "source": [
        "[**Video Tutorial: Outputs, Expressions, and Variables**](https://youtu.be/YITagkpgESQ)"
      ]
    },
    {
      "cell_type": "markdown",
      "metadata": {
        "id": "ndp9qgZ_ebHG",
        "colab_type": "text"
      },
      "source": [
        "Let's run our first, \"full-fledged\" Python program to print the string \"Hello World!!\" This is the archetypal first program everyone creates. In Python, it only requires one line of code, though we have two lines since one of them is a comment.\n",
        "\n",
        "To break down this program a little bit more, there are two things to note. One is that ***print*** is a function. You'll learn more about those later. The other is that the text along with the quotation marks is called a **string**. Strings are special values used in many programming languages to represent a sequence of characters. For example, \"hello\", \"qwertyuiop\", or \"This is a full sentence.\". Remember that numbers are also valid characters. However, keep in mind that \"42\" is different from 42. \"42\" (with quotations) is a string, which is just text. 42 (without quotations) is a number that can be used to add, subtract, etc.\n",
        "\n",
        "*In Java, you need to create a class with a main method (with so many keywords!), call a function such as System.out.println, compile the java file, then run the compiled file in order to print a string to the console. This is because Java is a compiled language, not an interpreted language like Python is. On a basic level, this means that Java requires many things to be explicitly defined, but Python purposely uses a syntax that is very minimal and easy to read.*"
      ]
    },
    {
      "cell_type": "code",
      "metadata": {
        "id": "E38QikBfCUIr",
        "colab_type": "code",
        "colab": {}
      },
      "source": [
        "# Our First Python Program\n",
        "print(\"Hello World!!\")"
      ],
      "execution_count": 0,
      "outputs": []
    },
    {
      "cell_type": "markdown",
      "metadata": {
        "id": "6L9YJT2B4c7t",
        "colab_type": "text"
      },
      "source": [
        "Another program to calculate 1 + 3 and print out the result. Note that 1 + 3 is called at ***expression*** since the calculation needs to be evaluated before the result can be outputted. That is, we're not printing \"1+3\" (which is a string), we're printing the result of the calculation of 1+3.\n",
        "\n",
        "*Note how we didn't have to convert the result of 1+3 into a string before printing it. Type conversion in Python, especially to a string, is often (not always) handled for you with built-in functions. However, since Python is not an explicitly typed language, you will have to be aware of handling types of input variables in your own functions.*"
      ]
    },
    {
      "cell_type": "code",
      "metadata": {
        "id": "2AcD1vAsJQob",
        "colab_type": "code",
        "colab": {}
      },
      "source": [
        "# A single expression\n",
        "print(1+3)\n"
      ],
      "execution_count": 0,
      "outputs": []
    },
    {
      "cell_type": "markdown",
      "metadata": {
        "id": "5W2owdvs4kgk",
        "colab_type": "text"
      },
      "source": [
        "A third program to store the string \"hamster\" in a ***variable*** called *pet* and then print out the contents of *pet*. Here, we aren't using an expression, but rather we're using a variable. A good analogy for understanding variables is a box with a label on it. Boxes are used to store things, just like variables are. The label on the box is like the name of the variable. Here, the label on the box (the name of the variable) is *pet*. The contents of the box (the value of the variable) is the string \"hamster\".\n",
        "\n",
        "Part of the reason we use the term \"variable\" is that the value of a variable can change. That is, while at first, the value of *pet* is \"hamster\", we can change its value later.\n",
        "\n",
        "*Much like how the previous example illustrates, variables are not declared to be of a specific type in Python. A variable called x could be instantiated as a string in one line, then an int in another. It is up to the programmer to remain consistent in how variables are used.*"
      ]
    },
    {
      "cell_type": "code",
      "metadata": {
        "id": "RKKpmqQ0Jah3",
        "colab_type": "code",
        "colab": {}
      },
      "source": [
        "# A variable to store values\n",
        "pet = \"hamster\"\n",
        "print(pet)\n",
        "\n",
        "# Let's change the value of the variable to something else\n",
        "pet = \"dragon\"\n",
        "print(pet)"
      ],
      "execution_count": 0,
      "outputs": []
    },
    {
      "cell_type": "markdown",
      "metadata": {
        "id": "cQRZ6fZ64vLS",
        "colab_type": "text"
      },
      "source": [
        "This snippet of code stores the values of **5** and **3** into variables called **a** and **b** and then adds these and stores the result into a variable called **c**. This shows how variables can be used in various ways, including being defined by the values stored in other variables. Note how this is different from doing *print(5+3)*."
      ]
    },
    {
      "cell_type": "code",
      "metadata": {
        "id": "YeuLRGbfJtck",
        "colab_type": "code",
        "colab": {}
      },
      "source": [
        "# Store values in variables a and b\n",
        "a = 5\n",
        "b = 3\n",
        "# Calculate the sum of values currently contained in a and b\n",
        "# Store result in variable c\n",
        "c = a + b\n",
        "# Print out result\n",
        "print(c)"
      ],
      "execution_count": 0,
      "outputs": []
    },
    {
      "cell_type": "markdown",
      "metadata": {
        "id": "nv4pR900t5z7",
        "colab_type": "text"
      },
      "source": [
        "We've seen variables of type string and integer so far, which are essentially like words and numbers, respectively. Another common variable type is the **boolean**, which can only be one of two values: true or false. In Python, these are written with a capital first letter (True and False).\n",
        "\n",
        "*In Java, booleans are specified in all lowercase letters (true and false).*"
      ]
    },
    {
      "cell_type": "code",
      "metadata": {
        "id": "FhbCxmATuzM6",
        "colab_type": "code",
        "colab": {}
      },
      "source": [
        "is_ai_awesome = True\n",
        "has_million_dollars = False"
      ],
      "execution_count": 0,
      "outputs": []
    },
    {
      "cell_type": "markdown",
      "metadata": {
        "id": "9Lz46wKzvRCx",
        "colab_type": "text"
      },
      "source": [
        "We can use other variable types along with certain operators to get a boolean value in return. For example, the typical mathematical equalities and inequalities can be used to compare numerical values:"
      ]
    },
    {
      "cell_type": "code",
      "metadata": {
        "id": "gVr3SOYQvnTH",
        "colab_type": "code",
        "outputId": "1a3c8a99-3bc4-4676-8427-7cb94e8cf56f",
        "colab": {
          "base_uri": "https://localhost:8080/",
          "height": 119
        }
      },
      "source": [
        "print(5 < 7) # True\n",
        "print(14 > 20) # False\n",
        "print(9 <= -50) # False\n",
        "print(0 >= 100) # True\n",
        "print(15 == 15) # True\n",
        "print(15 != 15) # False"
      ],
      "execution_count": 0,
      "outputs": [
        {
          "output_type": "stream",
          "text": [
            "True\n",
            "False\n",
            "False\n",
            "False\n",
            "True\n",
            "False\n"
          ],
          "name": "stdout"
        }
      ]
    },
    {
      "cell_type": "markdown",
      "metadata": {
        "id": "fhcIHO_fwDYa",
        "colab_type": "text"
      },
      "source": [
        "We can also combine booleans using logical operators such as **and** and **or**."
      ]
    },
    {
      "cell_type": "code",
      "metadata": {
        "id": "HfGYzRqDwJ6K",
        "colab_type": "code",
        "outputId": "16a94b6a-f363-416e-f17a-ba00197f4720",
        "colab": {
          "base_uri": "https://localhost:8080/",
          "height": 34
        }
      },
      "source": [
        "time = 1400 # 24-hour clock\n",
        "is_business_hours = time >= 900 and time <= 1700\n",
        "is_business_hours"
      ],
      "execution_count": 0,
      "outputs": [
        {
          "output_type": "execute_result",
          "data": {
            "text/plain": [
              "True"
            ]
          },
          "metadata": {
            "tags": []
          },
          "execution_count": 15
        }
      ]
    },
    {
      "cell_type": "markdown",
      "metadata": {
        "id": "clNTmhSa9Xsp",
        "colab_type": "text"
      },
      "source": [
        "## Conditionals"
      ]
    },
    {
      "cell_type": "markdown",
      "metadata": {
        "id": "kIABHZLQZ46z",
        "colab_type": "text"
      },
      "source": [
        "[**Video Tutorial: Conditional Statements**](https://youtu.be/2SSyN6JNjtg)"
      ]
    },
    {
      "cell_type": "markdown",
      "metadata": {
        "id": "cj8557hg9cOt",
        "colab_type": "text"
      },
      "source": [
        "***Conditionals*** are the statements around which the program determines what actions to perform. Think of these like a flowchart. If one thing is true, do this. If it is not true, do something else. Python uses the keywords **if**, **else**, and **elif** (short for \"else if\") to indicate what should be executed based on each condition, with the subsequent code indented inside the code block. A \"code block\" is a bit of code that is defined as a unit *inside* a module such as if statements, loops, function, classes, etc.\n",
        "\n",
        "*In Java, curly braces indicate the start and end of block of a code. Anything in between curly braces does not need to be indented, but programmers use indentation and whitespace to make Java code more readable. Python, on the other hand, simply indicates the start of a code block with a colon. Any lines thereafter MUST be indented to be considered inside of that code block. With the lack of start and end punctuation like Java has, Python necessitates the use of indentation to show that code is contained within a loop, a function, a class, etc.*"
      ]
    },
    {
      "cell_type": "code",
      "metadata": {
        "id": "oSO7m8K7ACl8",
        "colab_type": "code",
        "colab": {}
      },
      "source": [
        "# Define how the weather is using a string\n",
        "weather = 'sunny'"
      ],
      "execution_count": 0,
      "outputs": []
    },
    {
      "cell_type": "markdown",
      "metadata": {
        "id": "R8mwAdppKbTK",
        "colab_type": "text"
      },
      "source": [
        "Let's print something based on what the weather is, starting with asking just if the weather is sunny."
      ]
    },
    {
      "cell_type": "code",
      "metadata": {
        "id": "NWyoaMf1Kikr",
        "colab_type": "code",
        "outputId": "c64cdbf1-38be-4d3d-cd44-f5fc0a9f7e1e",
        "colab": {
          "base_uri": "https://localhost:8080/",
          "height": 34
        }
      },
      "source": [
        "# Use an if statement with the boolean condition \n",
        "# comparing weather to our desired answer\n",
        "if weather == 'sunny':\n",
        "  # Anything inside this if statement code block must be indented\n",
        "  print('We should go hiking!')"
      ],
      "execution_count": 0,
      "outputs": [
        {
          "output_type": "stream",
          "text": [
            "We should go hiking!\n"
          ],
          "name": "stdout"
        }
      ]
    },
    {
      "cell_type": "markdown",
      "metadata": {
        "id": "tXahFsbVLB52",
        "colab_type": "text"
      },
      "source": [
        "Now let's add a \"default\" option for the case when the weather is not sunny."
      ]
    },
    {
      "cell_type": "code",
      "metadata": {
        "id": "Dly4WGfTLX4c",
        "colab_type": "code",
        "outputId": "ee1c4f2a-d038-4261-e155-73a419b38a0e",
        "colab": {
          "base_uri": "https://localhost:8080/",
          "height": 34
        }
      },
      "source": [
        "# Let's change the weather to make it more interesting\n",
        "weather = 'rainy'\n",
        "\n",
        "# Same if statement as before\n",
        "if weather == 'sunny':\n",
        "  print('We should go hiking!')\n",
        "# Note that the else statement is not indented since it is not\n",
        "# inside the if statement\n",
        "else: # No boolean condition here since else handles all other cases\n",
        "  print('We should order pizza')"
      ],
      "execution_count": 0,
      "outputs": [
        {
          "output_type": "stream",
          "text": [
            "We should order pizza\n"
          ],
          "name": "stdout"
        }
      ]
    },
    {
      "cell_type": "markdown",
      "metadata": {
        "id": "bKoMyavYLXGa",
        "colab_type": "text"
      },
      "source": [
        "We can include an **elif** statement in between our **if** and **else** statement (or any number of **elif**s) to include another option."
      ]
    },
    {
      "cell_type": "code",
      "metadata": {
        "id": "jgfpXtCHMMBO",
        "colab_type": "code",
        "outputId": "4aefb36e-01ba-4ca4-9417-9946feda43a1",
        "colab": {
          "base_uri": "https://localhost:8080/",
          "height": 34
        }
      },
      "source": [
        "weather = 'snowy'\n",
        "\n",
        "if weather == 'sunny':\n",
        "  print('We should go hiking!')\n",
        "elif weather == 'snowy':\n",
        "  print('We should go skiing!')\n",
        "else:\n",
        "  print('We should order pizza')"
      ],
      "execution_count": 0,
      "outputs": [
        {
          "output_type": "stream",
          "text": [
            "We should go skiing!\n"
          ],
          "name": "stdout"
        }
      ]
    },
    {
      "cell_type": "markdown",
      "metadata": {
        "id": "wtJgrGka7Xuu",
        "colab_type": "text"
      },
      "source": [
        "Let's go through one more example where we have multiple  elif statements."
      ]
    },
    {
      "cell_type": "code",
      "metadata": {
        "id": "pF-EB-hy7ghA",
        "colab_type": "code",
        "outputId": "bd7dcf96-6bc6-4ebb-dcf1-cd0f5bca7f21",
        "colab": {
          "base_uri": "https://localhost:8080/",
          "height": 34
        }
      },
      "source": [
        "weather = 'raining'\n",
        "\n",
        "if weather == 'sunny':\n",
        "  print('We should go hiking!')\n",
        "# Again, elif is its own statement, so it is not indented\n",
        "elif weather == 'snowy':\n",
        "  print('We should go skiing!')\n",
        "elif weather == 'raining':\n",
        "  print(\"We should get an umbrella.\")\n",
        "else:\n",
        "  print('We should order pizza')"
      ],
      "execution_count": 0,
      "outputs": [
        {
          "output_type": "stream",
          "text": [
            "We should get an umbrella.\n"
          ],
          "name": "stdout"
        }
      ]
    },
    {
      "cell_type": "markdown",
      "metadata": {
        "id": "tAhSWHV27__K",
        "colab_type": "text"
      },
      "source": [
        "Notice that both the **if** statement and the first **elif** block have been skipped over since neither match our string 'raining'. "
      ]
    },
    {
      "cell_type": "markdown",
      "metadata": {
        "id": "-KYD6UyO8PRN",
        "colab_type": "text"
      },
      "source": [
        "**Reflection:**\n",
        "*   What would the code block above do if the string is 'cloudy'?"
      ]
    },
    {
      "cell_type": "markdown",
      "metadata": {
        "id": "nL5tCkILVU1d",
        "colab_type": "text"
      },
      "source": [
        "## List"
      ]
    },
    {
      "cell_type": "markdown",
      "metadata": {
        "id": "C_gC5VtYdoC4",
        "colab_type": "text"
      },
      "source": [
        "[**Video Tutorial: Lists**](https://youtu.be/14gtNJBDLm8)"
      ]
    },
    {
      "cell_type": "markdown",
      "metadata": {
        "id": "JV9L9iMDtLc-",
        "colab_type": "text"
      },
      "source": [
        "Sometimes we might have large collections of variables that we would like to process together or keep track of. Instead of creating individual variable names for hundreds or thousands of variables, we can create a list that keeps all of those data points together in one place. \n",
        "\n",
        "*Lists in Python are syntactically very similar to arrays in Java. That is, you can create one simply by using square brackets with comma-separated values.*"
      ]
    },
    {
      "cell_type": "code",
      "metadata": {
        "id": "UarRiy9ithyb",
        "colab_type": "code",
        "colab": {}
      },
      "source": [
        "# Store all three variable values into a list so we don't have to remember each variable\n",
        "values = [5,3,8]\n",
        "print(values)"
      ],
      "execution_count": 0,
      "outputs": []
    },
    {
      "cell_type": "markdown",
      "metadata": {
        "id": "so1wtvL1jXOO",
        "colab_type": "text"
      },
      "source": [
        "If we need to access any of our variables (called elements) in our list, we just need to specify its position (called its index) within our list. We do so by using square brackets placed directly after the list with the index we want inside the brackets.\n",
        "\n",
        "*Accessing an element in a list at a particular index is done just as it is with a Java array.*"
      ]
    },
    {
      "cell_type": "code",
      "metadata": {
        "id": "S1vTGbDyuIEU",
        "colab_type": "code",
        "colab": {}
      },
      "source": [
        "# Return the first position within our list (starts at index value zero)\n",
        "print(values[0])\n",
        "\n",
        "# Return the second position within our list\n",
        "print(values[1])\n",
        "\n",
        "# Return the third position within our list\n",
        "print(values[2])"
      ],
      "execution_count": 0,
      "outputs": []
    },
    {
      "cell_type": "markdown",
      "metadata": {
        "id": "74VbLlNgkTGD",
        "colab_type": "text"
      },
      "source": [
        "Now that we've created a list with three elements, let's create the fourth element with value **12**. To do so we'll use the **append function ** which allows us to add an additional element to our list. Though we have not covered functions yet you can think of them as small snippets of predefined code that will automatically perform an action for us.\n",
        "\n",
        "*This is where lists differ from Java arrays. Lists in Python behave more like the class ArrayList in Java. That is, as this example shows, we can append elements easily to the end of a list without having to create a new list and copy everything in.*"
      ]
    },
    {
      "cell_type": "code",
      "metadata": {
        "id": "k8Y11Smxlfwb",
        "colab_type": "code",
        "colab": {}
      },
      "source": [
        "# Add the value 12 to the end of our list called values\n",
        "values.append(12)\n",
        "\n",
        "# Return the results of our Values list\n",
        "print(values)"
      ],
      "execution_count": 0,
      "outputs": []
    },
    {
      "cell_type": "markdown",
      "metadata": {
        "id": "tMcR4NLPl2oK",
        "colab_type": "text"
      },
      "source": [
        "Let's add a fifth element with value **4**."
      ]
    },
    {
      "cell_type": "code",
      "metadata": {
        "id": "cYnmoFkLmll-",
        "colab_type": "code",
        "colab": {}
      },
      "source": [
        "# Add the value 4\n",
        "values.append(4)\n",
        "\n",
        "# Return the new appended list\n",
        "print(values)"
      ],
      "execution_count": 0,
      "outputs": []
    },
    {
      "cell_type": "markdown",
      "metadata": {
        "id": "mttwVxv8mxRz",
        "colab_type": "text"
      },
      "source": [
        "Let's now output just the first two elements from our values list. Instead of providing a single index, we provide a range, designated with two indices separated by a colon. If the first index is omitted (as in this example), it is considered to be 0. If the second index is omitted, it is considered to be the length of the array. The list that is returned contains the elements from the first index up to but not including the second index.\n",
        "\n",
        "*Java does not provide simplified syntax for quickly accessing sublists. Arrays.copyOfRange or the sublist function of an ArrayList are the closest equivalents.* "
      ]
    },
    {
      "cell_type": "code",
      "metadata": {
        "id": "odB6A0SWm7Lv",
        "colab_type": "code",
        "colab": {}
      },
      "source": [
        "print(values[:2])"
      ],
      "execution_count": 0,
      "outputs": []
    },
    {
      "cell_type": "markdown",
      "metadata": {
        "id": "-Fa2GOJ0nPL0",
        "colab_type": "text"
      },
      "source": [
        "Now let's output the 2nd, 3rd, and 4th elements."
      ]
    },
    {
      "cell_type": "code",
      "metadata": {
        "id": "6UQQJU1tnV_l",
        "colab_type": "code",
        "colab": {}
      },
      "source": [
        "print(values[1:4])"
      ],
      "execution_count": 0,
      "outputs": []
    },
    {
      "cell_type": "markdown",
      "metadata": {
        "id": "C8eb8fN2nf3W",
        "colab_type": "text"
      },
      "source": [
        "Let's now drop the last element. This is basically the opposite of the append method.\n",
        "\n",
        "*The pop method is something more closely associated with stacks and queues in Java. Python uses this intuition on generic lists to provide a short, easily understood function for removing the last value of the list.*"
      ]
    },
    {
      "cell_type": "code",
      "metadata": {
        "id": "ZjcwJrICnp2n",
        "colab_type": "code",
        "colab": {}
      },
      "source": [
        "values.pop()\n",
        "print(values)"
      ],
      "execution_count": 0,
      "outputs": []
    },
    {
      "cell_type": "markdown",
      "metadata": {
        "id": "h372pi2euyaw",
        "colab_type": "text"
      },
      "source": [
        "## Loops"
      ]
    },
    {
      "cell_type": "markdown",
      "metadata": {
        "id": "f8WvZmf9hYXM",
        "colab_type": "text"
      },
      "source": [
        "[**Video Tutorial: Loops**](https://youtu.be/DD3fiwv-Q_E)"
      ]
    },
    {
      "cell_type": "markdown",
      "metadata": {
        "id": "Wuvd1L5fntSL",
        "colab_type": "text"
      },
      "source": [
        "What if we want to access all of our elements one at a time? In this case, we can use a for loop to \"loop over\" our list. You can loop over a list in various ways (every other element, reverse order, etc), but for this example, we will iterate from the first element to the last one by one. In order for the Python interpreter to know what is inside the for loop, we have to indent the lines of code following the colon at the end of the for loop header.\n",
        "\n",
        "The **len** function gives us the length of a list. The **range** function gives us a list with the integer values ranging from 0 up to, but not including, the inputted number. In this case, **range(len(values))** will return the list **[0,1,2,3]**, so the **index** will be 0 on the first iteration of the loop, 1 on the second, and so on.\n",
        "\n",
        "*Basic Java for loops have more complicated syntax, involving three parts: instantiation, end condition, and update. More recent versions of Java provide a simpler syntax function the same way Python for loops do, where the provided variable simply takes on the value of each element in the given list in order.*"
      ]
    },
    {
      "cell_type": "code",
      "metadata": {
        "id": "ej_SVZlZoFau",
        "colab_type": "code",
        "outputId": "9e3a8df7-ab56-4789-9604-34edba43eda0",
        "colab": {
          "base_uri": "https://localhost:8080/",
          "height": 85
        }
      },
      "source": [
        "values = [24, 13, 201, 5]\n",
        "for index in range(len(values)):\n",
        "  print(values[index])"
      ],
      "execution_count": 0,
      "outputs": [
        {
          "output_type": "stream",
          "text": [
            "24\n",
            "13\n",
            "201\n",
            "5\n"
          ],
          "name": "stdout"
        }
      ]
    },
    {
      "cell_type": "markdown",
      "metadata": {
        "id": "qwPN28LfoTG2",
        "colab_type": "text"
      },
      "source": [
        "Let's see how we can use our for loop to increase each element in our list by one."
      ]
    },
    {
      "cell_type": "code",
      "metadata": {
        "id": "E1stVT_ioStV",
        "colab_type": "code",
        "outputId": "5c8c4e40-ae89-4a77-fecf-5d085c73f0b6",
        "colab": {
          "base_uri": "https://localhost:8080/",
          "height": 34
        }
      },
      "source": [
        "for index in range(len(values)):\n",
        "  # Inside our for loop we will increase each element value by one\n",
        "  values[index] += 1\n",
        "  \n",
        "# This line of code will execute when the loop is finished.\n",
        "# Note how this is NOT indented like the line inside the for loop.\n",
        "# Print out the result of our new list.\n",
        "print(values)\n"
      ],
      "execution_count": 0,
      "outputs": [
        {
          "output_type": "stream",
          "text": [
            "[25, 14, 202, 6]\n"
          ],
          "name": "stdout"
        }
      ]
    },
    {
      "cell_type": "markdown",
      "metadata": {
        "id": "a38PKkOGVdQD",
        "colab_type": "text"
      },
      "source": [
        "## Dictionaries"
      ]
    },
    {
      "cell_type": "markdown",
      "metadata": {
        "id": "vyMqwNzvk-KN",
        "colab_type": "text"
      },
      "source": [
        "[**Video Tutorial: Dictionaries**](https://youtu.be/7zeNUfQ8vkQ)"
      ]
    },
    {
      "cell_type": "markdown",
      "metadata": {
        "id": "y1e02aXqqKU7",
        "colab_type": "text"
      },
      "source": [
        "Another way to store our data is by using a dictionary. A python dictionary acts sort of like a traditional book dictionary we use to look up definitions based on a word. Instead of using an index as we do with lists, we can access elements in a dictionary by providing a key and getting the corresponding value from the key-value pair in return. Keys and values can be just about any type, including strings and integers as in this example. Lists, on the other hand, only allow us to access an element by providing an integer index.\n",
        "\n",
        "*Python dictionaries function basically the same way Java HashMaps do. Again, the notation is much simpler than Java's, with indexing (shown in the next example) simplified to look much like indexing an array does.*"
      ]
    },
    {
      "cell_type": "code",
      "metadata": {
        "id": "LV2IHM2TqqEN",
        "colab_type": "code",
        "outputId": "121e73aa-e54c-4163-ca36-aad064b1956e",
        "colab": {
          "base_uri": "https://localhost:8080/",
          "height": 34
        }
      },
      "source": [
        "# Create a dictionary of student names and their corresponding ages\n",
        "student_dict = {'Mark': 15, 'Jessica': 17, 'James': 16, 'Victoria': 16}\n",
        "\n",
        "# Return dictionary key-value pairs\n",
        "print(student_dict)"
      ],
      "execution_count": 0,
      "outputs": [
        {
          "output_type": "stream",
          "text": [
            "{'Mark': 15, 'Jessica': 17, 'James': 16, 'Victoria': 16}\n"
          ],
          "name": "stdout"
        }
      ]
    },
    {
      "cell_type": "markdown",
      "metadata": {
        "id": "xunu_aqLrsvE",
        "colab_type": "text"
      },
      "source": [
        "Now that we have our dictionary, we can query it for a student's age by providing the name of the student."
      ]
    },
    {
      "cell_type": "code",
      "metadata": {
        "id": "G6oHJ6nYr8OM",
        "colab_type": "code",
        "outputId": "f3739c9e-47b0-41a5-c467-9f223cc4875b",
        "colab": {
          "base_uri": "https://localhost:8080/",
          "height": 34
        }
      },
      "source": [
        "# Return the age of the student with the name 'Jessica'\n",
        "print(student_dict['Jessica'])"
      ],
      "execution_count": 0,
      "outputs": [
        {
          "output_type": "stream",
          "text": [
            "17\n"
          ],
          "name": "stdout"
        }
      ]
    },
    {
      "cell_type": "markdown",
      "metadata": {
        "id": "fm1P9HGKttHk",
        "colab_type": "text"
      },
      "source": [
        "We can also add a new key-value pair to our dictionary like so:"
      ]
    },
    {
      "cell_type": "code",
      "metadata": {
        "id": "DClXOeX0tzuQ",
        "colab_type": "code",
        "outputId": "ce8b127a-7d28-4ca9-b2c4-2bf73f825a99",
        "colab": {
          "base_uri": "https://localhost:8080/",
          "height": 34
        }
      },
      "source": [
        "# Add new key value pair 'Andre':15 to our dictionary\n",
        "student_dict['Andre'] = 15\n",
        "\n",
        "# See the results of new dictionary\n",
        "print(student_dict)"
      ],
      "execution_count": 0,
      "outputs": [
        {
          "output_type": "stream",
          "text": [
            "{'Mark': 15, 'Jessica': 17, 'James': 16, 'Victoria': 16, 'Andre': 15}\n"
          ],
          "name": "stdout"
        }
      ]
    },
    {
      "cell_type": "markdown",
      "metadata": {
        "id": "f1Z3yJ7lulNk",
        "colab_type": "text"
      },
      "source": [
        "Print the value of the key we just added:"
      ]
    },
    {
      "cell_type": "code",
      "metadata": {
        "id": "rr-lIC8rugIY",
        "colab_type": "code",
        "outputId": "96986c43-6992-4a1b-8c45-05fc07c150a0",
        "colab": {
          "base_uri": "https://localhost:8080/",
          "height": 34
        }
      },
      "source": [
        "print(student_dict['Andre'])"
      ],
      "execution_count": 0,
      "outputs": [
        {
          "output_type": "stream",
          "text": [
            "15\n"
          ],
          "name": "stdout"
        }
      ]
    },
    {
      "cell_type": "markdown",
      "metadata": {
        "id": "VOXE6EZYoLtF",
        "colab_type": "text"
      },
      "source": [
        "## Python Functions"
      ]
    },
    {
      "cell_type": "markdown",
      "metadata": {
        "id": "0Jq2AiHGpqiI",
        "colab_type": "text"
      },
      "source": [
        "[**Video Tutorial: Functions**](https://youtu.be/W1gKtjYVZWE)"
      ]
    },
    {
      "cell_type": "markdown",
      "metadata": {
        "id": "u2_jgDTLopXR",
        "colab_type": "text"
      },
      "source": [
        "A Python ***function*** is similar to how we think of functions in math. It is a predefined method or set of instructions that acts like a template for us to recall and reuse any time we like.\n",
        "\n",
        "*Java functions require a few keywords like public, private, static, etc. when being declared. Things like scope and privacy in Python are implied by WHERE something is declared (e.g. inside a class, outside of a function, etc), so those explicit keywords are not used. Instead, we simply use **def** to indicate that we are declaring a function, and again, a colon to indicate the code block for this function.*"
      ]
    },
    {
      "cell_type": "markdown",
      "metadata": {
        "id": "aKJsp5Y8okMI",
        "colab_type": "text"
      },
      "source": [
        "1. Define a function called \"***math_function***\" that will compute $y = (x_1 \\times x_2 + x_3)$.\n",
        "\n",
        "2. Run the function to compute $y = (1 \\times 2 + 3)$, then display the result.\n",
        "\n",
        "3. Run the function to compute $y = (2 \\times 3 + 5)$, then display the result."
      ]
    },
    {
      "cell_type": "code",
      "metadata": {
        "id": "An1gX_ucCmkH",
        "colab_type": "code",
        "colab": {}
      },
      "source": [
        "# Define a function that multiplies input 1 and 2\n",
        "# and adds input 3 to that product\n",
        "def math_function(input_1, input_2, input_3):\n",
        "  # y = (x1 * x2) + x3\n",
        "  output = (input_1 * input_2) + input_3\n",
        "  return output"
      ],
      "execution_count": 0,
      "outputs": []
    },
    {
      "cell_type": "code",
      "metadata": {
        "id": "7E64hvYw2Y_k",
        "colab_type": "code",
        "colab": {}
      },
      "source": [
        "# Call our predefined math function\n",
        "# Give it inputs x1 = 1, x2 = 2, x3 = 3\n",
        "result = math_function(1, 2, 3)\n",
        "# Display results\n",
        "print(result)"
      ],
      "execution_count": 0,
      "outputs": []
    },
    {
      "cell_type": "code",
      "metadata": {
        "id": "C5zcZy1o2jxk",
        "colab_type": "code",
        "colab": {}
      },
      "source": [
        "# Call our predefined math function again\n",
        "# Give it inputs x1 = 2, x2 = 3, x3 = 5\n",
        "result = math_function(2, 3, 5)\n",
        "# Display results\n",
        "print(result)"
      ],
      "execution_count": 0,
      "outputs": []
    },
    {
      "cell_type": "markdown",
      "metadata": {
        "id": "Ig8xFdtLenhN",
        "colab_type": "text"
      },
      "source": [
        "1. Create two lists called 'array_1' and 'array_2'\n",
        "\n",
        "2. Define a new function called \"***mult_lists***\" that will take two lists of equal length, multiply the elements of those lists together, and return a list containing those resulting products.\n",
        "\n",
        "3. Calculate the results of multiplying elements of *'array_1'* and *'array_2'* and store the results in *'array_3'*\n",
        "\n",
        "4. Display the results contained in *'array_3'*\n",
        "\n",
        "5. Call the predefined function *'sum'* to calculate the total of all the elements in *'array_3'* before we print and display the result"
      ]
    },
    {
      "cell_type": "code",
      "metadata": {
        "id": "z-DEnw5dEA1G",
        "colab_type": "code",
        "colab": {}
      },
      "source": [
        "# Create two lists of numbers\n",
        "# It is important in this case that both lists are the same length\n",
        "array_1 = [1, 2, 3, 4, 5] \n",
        "array_2 = [2, 4, 6, 8, 10] "
      ],
      "execution_count": 0,
      "outputs": []
    },
    {
      "cell_type": "markdown",
      "metadata": {
        "id": "91MVoSgLtZGG",
        "colab_type": "text"
      },
      "source": [
        "The method below uses Python's built-in assert method, which will let our program continue executing as normal if the boolean condition it's given is true. If false, the program stops and an error message is printed."
      ]
    },
    {
      "cell_type": "code",
      "metadata": {
        "id": "uTXB0GS93nue",
        "colab_type": "code",
        "colab": {}
      },
      "source": [
        "# Define new function called 'mult_lists' to\n",
        "# multiply elements in two lists together\n",
        "def mult_lists(input_list1, input_list2):\n",
        "  # Make sure both lists are same size\n",
        "  assert(len(input_list1) == len(input_list2))\n",
        "  # Create a new empty array\n",
        "  array_3 = []\n",
        "  # Loop through each element in both lists \n",
        "  for index_value in range(len(input_list1)):\n",
        "    # Product of elements at current index in each list\n",
        "    mul_val = input_list1[index_value] * input_list2[index_value]\n",
        "    # Store result by adding (appending) mul_val to array 3\n",
        "    array_3.append(mul_val)\n",
        "    \n",
        "  # return our new array\n",
        "  return array_3"
      ],
      "execution_count": 0,
      "outputs": []
    },
    {
      "cell_type": "code",
      "metadata": {
        "id": "0GZcy4RR5z5C",
        "colab_type": "code",
        "colab": {}
      },
      "source": [
        "# Call predefined mult_list function with our array_1 and array_2 lists\n",
        "result = mult_lists(array_1, array_2)\n",
        "# Display values of array_3 now assigned to result\n",
        "print(result)"
      ],
      "execution_count": 0,
      "outputs": []
    },
    {
      "cell_type": "code",
      "metadata": {
        "id": "oullZ8MM6Yte",
        "colab_type": "code",
        "colab": {}
      },
      "source": [
        "# Calculate the sum of the result list\n",
        "total = sum(result)\n",
        "# Display total value\n",
        "print(total)"
      ],
      "execution_count": 0,
      "outputs": []
    },
    {
      "cell_type": "markdown",
      "metadata": {
        "id": "_IRRY8y1oLtb",
        "colab_type": "text"
      },
      "source": [
        "## Object-Oriented Programming and Classes"
      ]
    },
    {
      "cell_type": "markdown",
      "metadata": {
        "id": "AgvICbeUtLJR",
        "colab_type": "text"
      },
      "source": [
        "[**Video Tutorial: Object-Oriented Programming and Classes**](https://youtu.be/o-D9kmxTWyM)"
      ]
    },
    {
      "cell_type": "markdown",
      "metadata": {
        "id": "9C6W5oNQpGq4",
        "colab_type": "text"
      },
      "source": [
        "***Python classes*** combine data storage and functions together. This is useful for defining code concepts from the real world. For example, a class called Dog might have a function called bark() and a variable called fur_color. Every class, in order for us to initialize an instance of the class, must have a constructor function with the name **init** with two underscores on either side that takes in **self** as the first input, followed by any other optional inputs as defined by the programmer. Instance variables are contained in **self**.\n",
        "\n",
        "*Java constructors are defined by using the name of the class as the constructor name.*"
      ]
    },
    {
      "cell_type": "code",
      "metadata": {
        "id": "aeCNT5TCoLtc",
        "colab_type": "code",
        "colab": {}
      },
      "source": [
        "# Define a class object (a blueprint or template to create our AIAgents)\n",
        "class AIAgent():\n",
        "    # A function that initializes our agent object with the inputs given\n",
        "    def __init__(self, health, greeting):\n",
        "        # Internal variables assigned to the unique object created \n",
        "        self.health = health\n",
        "        self.greeting = greeting\n",
        "    # Another function defining what actions the object can perform\n",
        "    def talk(self):\n",
        "        # This function has access to the greeting variable to output\n",
        "        print(self.greeting)"
      ],
      "execution_count": 0,
      "outputs": []
    },
    {
      "cell_type": "code",
      "metadata": {
        "id": "J9iJT4TFoLtd",
        "colab_type": "code",
        "outputId": "acaec2ff-14c4-4e86-d77a-bf40613479a5",
        "colab": {
          "base_uri": "https://localhost:8080/",
          "height": 51
        }
      },
      "source": [
        "# Initialize our Hal AIAgent with health 10 and his greeting\n",
        "hal = AIAgent(10, \"Hello Dave.\")\n",
        "hal.talk()\n",
        "print(hal.health)"
      ],
      "execution_count": 0,
      "outputs": [
        {
          "output_type": "stream",
          "text": [
            "Hello Dave.\n",
            "10\n"
          ],
          "name": "stdout"
        }
      ]
    },
    {
      "cell_type": "code",
      "metadata": {
        "id": "bqXoeeNWoLth",
        "colab_type": "code",
        "outputId": "a9928340-dd34-478a-c060-06e950f5bb7a",
        "colab": {
          "base_uri": "https://localhost:8080/",
          "height": 68
        }
      },
      "source": [
        "# Initialize our Jarvis AIAgent with health 200 and his greeting\n",
        "jarvis = AIAgent(200, \"Good morning. It's 7 A.M. The weather in Malibu is 72 degrees with scattered clouds. The\\nsurf conditions are fair with waist to shoulder highlines, high tide will be at 10:52 a.m.\")\n",
        "jarvis.talk()\n",
        "print(jarvis.health)"
      ],
      "execution_count": 0,
      "outputs": [
        {
          "output_type": "stream",
          "text": [
            "Good morning. It's 7 A.M. The weather in Malibu is 72 degrees with scattered clouds. The\n",
            "surf conditions are fair with waist to shoulder highlines, high tide will be at 10:52 a.m.\n",
            "200\n"
          ],
          "name": "stdout"
        }
      ]
    },
    {
      "cell_type": "code",
      "metadata": {
        "id": "F_-Zk9smoLtj",
        "colab_type": "code",
        "outputId": "36296be9-f169-4e8e-a6bc-5acca8d81aca",
        "colab": {
          "base_uri": "https://localhost:8080/",
          "height": 51
        }
      },
      "source": [
        "# Initialize T800 AIAgent with health 1000 and his greeting\n",
        "t800 = AIAgent(1000, \"Hasta la vista, baby!\")\n",
        "t800.talk()\n",
        "print(t800.health)"
      ],
      "execution_count": 0,
      "outputs": [
        {
          "output_type": "stream",
          "text": [
            "Hasta la vista, baby!\n",
            "1000\n"
          ],
          "name": "stdout"
        }
      ]
    },
    {
      "cell_type": "markdown",
      "metadata": {
        "id": "SA2k7owpoLtl",
        "colab_type": "text"
      },
      "source": [
        "## Python Libraries"
      ]
    },
    {
      "cell_type": "markdown",
      "metadata": {
        "id": "Ruqn74eWyHK9",
        "colab_type": "text"
      },
      "source": [
        "[**Video Tutorial: Python Libraries**](https://youtu.be/LAVZ5XaJfYE)"
      ]
    },
    {
      "cell_type": "markdown",
      "metadata": {
        "id": "fKBX59uyqJf_",
        "colab_type": "text"
      },
      "source": [
        "A ***programming library*** or module is just a set of predefined methods and objects that extends what we can use in our programs."
      ]
    },
    {
      "cell_type": "markdown",
      "metadata": {
        "id": "_ozOsaFIqA-y",
        "colab_type": "text"
      },
      "source": [
        "[***NumPy***](http://www.numpy.org/) is a library for the Python programming language, adding support for large, multi-dimensional arrays and matrices, along with a large collection of high-level mathematical functions to operate on these arrays.\n",
        "\n",
        "[***Pandas***](http://pandas.pydata.org/pandas-docs/stable/) is a library written for the Python programming language for data manipulation and analysis. In particular, it offers data structures and operations for manipulating numerical tables and time series. \n",
        "\n",
        "[***Matplotlib***](https://matplotlib.org/index.html) is a plotting library for the Python programming language and its numerical mathematics extension NumPy.\n",
        "\n",
        "[***Scikit-learn***](http://scikit-learn.org/stable/documentation.html) is a machine learning library for the Python programming language. It features various classification, regression, and clustering algorithms including support vector machines, random forests, gradient boosting, k-means and DBSCAN.\n",
        "\n",
        "[***Tensorflow***](https://www.tensorflow.org/versions/r1.1/get_started/) is an open-source software library for dataflow programming across a range of tasks. It is a symbolic math library and also used for machine learning applications such as neural networks. - Wikipedia\n",
        "\n",
        "[***Keras***](https://keras.io/) is an open source neural network library written in Python. It is capable of running on top of TensorFlow, Microsoft Cognitive Toolkit or Theano.  - Wikipedia"
      ]
    },
    {
      "cell_type": "markdown",
      "metadata": {
        "id": "Tb_8n4se68tj",
        "colab_type": "text"
      },
      "source": [
        "Earlier, we defined our own function for calculating the products of the elements in two lists, then calculated the sum of those products. The result is known as the dot product of the two lists. We can calculate the dot product using an external library called NumPy to do it more efficiently, both in the sense that the authors of NumPy ensure the function works as efficiently as possible and in the sense that we don't have to write as much code!\n",
        "\n",
        "1. Load additional predefined functions from NumPy\n",
        "\n",
        "2. Create two lists called 'array_1' and 'array_2'\n",
        "\n",
        "3. Multiply 'array_1' and 'array_2' and store in 'array_3'\n",
        "\n",
        "4. Print the results of 'array_3'\n",
        "\n",
        "5. Call the NumPy (np) dot function to calculate the dot product of array 1 and 2\n",
        "\n",
        "6. Print the dot product"
      ]
    },
    {
      "cell_type": "code",
      "metadata": {
        "id": "strX-L6zKLHK",
        "colab_type": "code",
        "outputId": "7e29f503-850a-4628-e3eb-75d8fc601a88",
        "colab": {
          "base_uri": "https://localhost:8080/",
          "height": 51
        }
      },
      "source": [
        "# Load a library (a file of additional predefined functions and classes not in the standard python language)\n",
        "import numpy as np # Load the Numpy library and rename it 'np' for short\n",
        "\n",
        "# Create two numpy arrays using the np.array function\n",
        "array_1 = np.array([1,2,3,4,5])\n",
        "array_2 = np.array([2,4,6,8,10])\n",
        "\n",
        "# Multiply elements in arrays 1 and 2 - notice how much simpler this is than our previous function\n",
        "array_3 = array_1 * array_2\n",
        "\n",
        "# Print result\n",
        "print(array_3)\n",
        "\n",
        "# A shortcut numpy function called 'dot' to perform dot multiplication\n",
        "# We don't even need a third array in order to calculate the dot product\n",
        "dot_product = np.dot(array_1, array_2)\n",
        "print(dot_product)"
      ],
      "execution_count": 0,
      "outputs": [
        {
          "output_type": "stream",
          "text": [
            "[ 2  8 18 32 50]\n",
            "110\n"
          ],
          "name": "stdout"
        }
      ]
    }
  ]
}